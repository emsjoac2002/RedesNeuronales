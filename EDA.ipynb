{
 "cells": [
  {
   "cell_type": "code",
   "execution_count": 5,
   "metadata": {},
   "outputs": [
    {
     "data": {
      "text/html": [
       "<div>\n",
       "<style scoped>\n",
       "    .dataframe tbody tr th:only-of-type {\n",
       "        vertical-align: middle;\n",
       "    }\n",
       "\n",
       "    .dataframe tbody tr th {\n",
       "        vertical-align: top;\n",
       "    }\n",
       "\n",
       "    .dataframe thead th {\n",
       "        text-align: right;\n",
       "    }\n",
       "</style>\n",
       "<table border=\"1\" class=\"dataframe\">\n",
       "  <thead>\n",
       "    <tr style=\"text-align: right;\">\n",
       "      <th></th>\n",
       "      <th>lesion_id</th>\n",
       "      <th>image_id</th>\n",
       "      <th>dx</th>\n",
       "      <th>dx_type</th>\n",
       "      <th>age</th>\n",
       "      <th>sex</th>\n",
       "      <th>localization</th>\n",
       "    </tr>\n",
       "  </thead>\n",
       "  <tbody>\n",
       "    <tr>\n",
       "      <th>0</th>\n",
       "      <td>HAM_0000118</td>\n",
       "      <td>ISIC_0027419</td>\n",
       "      <td>bkl</td>\n",
       "      <td>histo</td>\n",
       "      <td>80.0</td>\n",
       "      <td>male</td>\n",
       "      <td>scalp</td>\n",
       "    </tr>\n",
       "    <tr>\n",
       "      <th>1</th>\n",
       "      <td>HAM_0000118</td>\n",
       "      <td>ISIC_0025030</td>\n",
       "      <td>bkl</td>\n",
       "      <td>histo</td>\n",
       "      <td>80.0</td>\n",
       "      <td>male</td>\n",
       "      <td>scalp</td>\n",
       "    </tr>\n",
       "    <tr>\n",
       "      <th>2</th>\n",
       "      <td>HAM_0002730</td>\n",
       "      <td>ISIC_0026769</td>\n",
       "      <td>bkl</td>\n",
       "      <td>histo</td>\n",
       "      <td>80.0</td>\n",
       "      <td>male</td>\n",
       "      <td>scalp</td>\n",
       "    </tr>\n",
       "    <tr>\n",
       "      <th>3</th>\n",
       "      <td>HAM_0002730</td>\n",
       "      <td>ISIC_0025661</td>\n",
       "      <td>bkl</td>\n",
       "      <td>histo</td>\n",
       "      <td>80.0</td>\n",
       "      <td>male</td>\n",
       "      <td>scalp</td>\n",
       "    </tr>\n",
       "    <tr>\n",
       "      <th>4</th>\n",
       "      <td>HAM_0001466</td>\n",
       "      <td>ISIC_0031633</td>\n",
       "      <td>bkl</td>\n",
       "      <td>histo</td>\n",
       "      <td>75.0</td>\n",
       "      <td>male</td>\n",
       "      <td>ear</td>\n",
       "    </tr>\n",
       "  </tbody>\n",
       "</table>\n",
       "</div>"
      ],
      "text/plain": [
       "     lesion_id      image_id   dx dx_type   age   sex localization\n",
       "0  HAM_0000118  ISIC_0027419  bkl   histo  80.0  male        scalp\n",
       "1  HAM_0000118  ISIC_0025030  bkl   histo  80.0  male        scalp\n",
       "2  HAM_0002730  ISIC_0026769  bkl   histo  80.0  male        scalp\n",
       "3  HAM_0002730  ISIC_0025661  bkl   histo  80.0  male        scalp\n",
       "4  HAM_0001466  ISIC_0031633  bkl   histo  75.0  male          ear"
      ]
     },
     "execution_count": 5,
     "metadata": {},
     "output_type": "execute_result"
    }
   ],
   "source": [
    "import pandas as pd\n",
    "\n",
    "train_df = pd.read_csv('HAM10000_metadata.csv')\n",
    "train_df.head()"
   ]
  },
  {
   "cell_type": "markdown",
   "metadata": {},
   "source": [
    "Notamos que los datos tienen los campos observados en el print de arriba. De estos, dejamos de lado la lesion_id y el dx_type, ya que las imagenes solamente se cargan con el image_id y el dx_type es la forma por la cual se desarrolló el diagnóstico, que no aporta información del diagnóstico en sí."
   ]
  },
  {
   "cell_type": "code",
   "execution_count": 6,
   "metadata": {},
   "outputs": [
    {
     "data": {
      "text/plain": [
       "{'nv': 6705,\n",
       " 'mel': 1113,\n",
       " 'bkl': 1099,\n",
       " 'bcc': 514,\n",
       " 'df': 115,\n",
       " 'vasc': 142,\n",
       " 'akiec': 327}"
      ]
     },
     "execution_count": 6,
     "metadata": {},
     "output_type": "execute_result"
    }
   ],
   "source": [
    "dxs = {\n",
    "    'nv': 0,\n",
    "    'mel': 0,\n",
    "    'bkl': 0,\n",
    "    'bcc': 0,\n",
    "    'df': 0,\n",
    "    'vasc': 0,\n",
    "    'akiec': 0\n",
    "}\n",
    "\n",
    "for i in range(len(train_df[\"dx\"])):\n",
    "    dxs[train_df[\"dx\"][i]] +=1\n",
    "\n",
    "dxs"
   ]
  },
  {
   "cell_type": "markdown",
   "metadata": {},
   "source": [
    "Notamos que para predecir el diagnóstico, la probabilidad a priori mas alta es de 6705/10015 que resulta aproximadamente 66,94%. Por esta razón, esa será la accuracy base a partir de la cual el modelo funcione mejor que pleno azar."
   ]
  },
  {
   "cell_type": "code",
   "execution_count": 7,
   "metadata": {},
   "outputs": [
    {
     "data": {
      "text/plain": [
       "{'male': 5406, 'female': 4552, 'unknown': 57}"
      ]
     },
     "execution_count": 7,
     "metadata": {},
     "output_type": "execute_result"
    }
   ],
   "source": [
    "sexs = {\n",
    "    'male' : 0,\n",
    "    'female' : 0,\n",
    "    'unknown' : 0\n",
    "}\n",
    "\n",
    "for i in range(len(train_df[\"sex\"])):\n",
    "    sexs[train_df[\"sex\"][i]] +=1\n",
    "    \n",
    "sexs"
   ]
  },
  {
   "cell_type": "markdown",
   "metadata": {},
   "source": [
    "En el paper en cuestión no hacen referencia a basar el diagnóstico en sexo, por lo que no se quitó la categoría de \"unknown\" ya que puede ser información relevante en el diagnóstico definitivo."
   ]
  },
  {
   "cell_type": "code",
   "execution_count": 8,
   "metadata": {},
   "outputs": [
    {
     "data": {
      "text/plain": [
       "{'scalp': 128,\n",
       " 'ear': 56,\n",
       " 'face': 745,\n",
       " 'back': 2192,\n",
       " 'trunk': 1404,\n",
       " 'chest': 407,\n",
       " 'upper extremity': 1118,\n",
       " 'lower extremity': 2077,\n",
       " 'genital': 48,\n",
       " 'neck': 168,\n",
       " 'hand': 90,\n",
       " 'foot': 319,\n",
       " 'acral': 7,\n",
       " 'abdomen': 1022,\n",
       " 'unknown': 234}"
      ]
     },
     "execution_count": 8,
     "metadata": {},
     "output_type": "execute_result"
    }
   ],
   "source": [
    "locs = {\n",
    "    'scalp':0,\n",
    "    'ear':0,\n",
    "    'face':0,\n",
    "    'back':0,\n",
    "    'trunk':0,\n",
    "    'chest':0,\n",
    "    'upper extremity':0,\n",
    "    'lower extremity':0,\n",
    "    'genital':0,\n",
    "    'neck':0,\n",
    "    'hand':0,\n",
    "    'foot':0,\n",
    "    'acral':0,\n",
    "    'abdomen':0,\n",
    "    'unknown':0\n",
    "}\n",
    "\n",
    "for i in range(len(train_df[\"localization\"])):\n",
    "    locs[train_df[\"localization\"][i]] +=1\n",
    "    \n",
    "locs"
   ]
  },
  {
   "cell_type": "markdown",
   "metadata": {},
   "source": [
    "Se considera también la localización de la imágen, ya que es relevante para el diagnóstico."
   ]
  }
 ],
 "metadata": {
  "kernelspec": {
   "display_name": "Python 3.7 (RedesNeuronales)",
   "language": "python",
   "name": "redesneuronales"
  },
  "language_info": {
   "codemirror_mode": {
    "name": "ipython",
    "version": 3
   },
   "file_extension": ".py",
   "mimetype": "text/x-python",
   "name": "python",
   "nbconvert_exporter": "python",
   "pygments_lexer": "ipython3",
   "version": "3.8.1"
  }
 },
 "nbformat": 4,
 "nbformat_minor": 4
}
